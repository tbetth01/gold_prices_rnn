{
 "cells": [
  {
   "cell_type": "code",
   "execution_count": 1,
   "metadata": {},
   "outputs": [
    {
     "data": {
      "text/html": [
       "        <script type=\"text/javascript\">\n",
       "        window.PlotlyConfig = {MathJaxConfig: 'local'};\n",
       "        if (window.MathJax) {MathJax.Hub.Config({SVG: {font: \"STIX-Web\"}});}\n",
       "        if (typeof require !== 'undefined') {\n",
       "        require.undef(\"plotly\");\n",
       "        requirejs.config({\n",
       "            paths: {\n",
       "                'plotly': ['https://cdn.plot.ly/plotly-latest.min']\n",
       "            }\n",
       "        });\n",
       "        require(['plotly'], function(Plotly) {\n",
       "            window._Plotly = Plotly;\n",
       "        });\n",
       "        }\n",
       "        </script>\n",
       "        "
      ]
     },
     "metadata": {},
     "output_type": "display_data"
    }
   ],
   "source": [
    "import pandas as pd\n",
    "import numpy as np\n",
    "from scipy import stats\n",
    "import hdbscan\n",
    "import psycopg2 \n",
    "import sqlalchemy\n",
    "import matplotlib.pyplot as plt\n",
    "import seaborn as sns\n",
    "import datetime as dt\n",
    "import calendar\n",
    "from sklearn import cluster, datasets, mixture\n",
    "from scipy.stats import multivariate_normal\n",
    "from sklearn.mixture import GaussianMixture, BayesianGaussianMixture\n",
    "\n",
    "from plotly import __version__\n",
    "from plotly.offline import download_plotlyjs, init_notebook_mode, plot, iplot\n",
    "\n",
    "import cufflinks as cf\n",
    "\n",
    "# For offline use\n",
    "cf.go_offline()\n",
    "\n",
    "%matplotlib inline\n",
    "\n",
    "from IPython.display import HTML"
   ]
  },
  {
   "cell_type": "code",
   "execution_count": 2,
   "metadata": {},
   "outputs": [
    {
     "name": "stdout",
     "output_type": "stream",
     "text": [
      "       Date     Price\n",
      "0   1950-12    34.720\n",
      "1   1951-12    34.660\n",
      "2   1952-12    34.790\n",
      "3   1953-12    34.850\n",
      "4   1954-12    35.040\n",
      "..      ...       ...\n",
      "65  2015-12  1068.317\n",
      "66  2016-12  1152.165\n",
      "67  2017-12  1265.674\n",
      "68  2018-12  1249.887\n",
      "69  2019-12  1480.025\n",
      "\n",
      "[70 rows x 2 columns]\n",
      "        Date     Price\n",
      "0    1950-01    34.730\n",
      "1    1950-02    34.730\n",
      "2    1950-03    34.730\n",
      "3    1950-04    34.730\n",
      "4    1950-05    34.730\n",
      "..       ...       ...\n",
      "842  2020-03  1593.764\n",
      "843  2020-04  1680.030\n",
      "844  2020-05  1715.697\n",
      "845  2020-06  1734.032\n",
      "846  2020-07  1840.807\n",
      "\n",
      "[847 rows x 2 columns]\n",
      "Empty DataFrame\n",
      "Columns: [[{\"Date\": \"1950-12\",  \"Price\": 34.72}, {\"Date\": \"1951-12\",  \"Price\": 34.66}, {\"Date\": \"1952-12\",  \"Price\": 34.79}, {\"Date\": \"1953-12\",  \"Price\": 34.85}, {\"Date\": \"1954-12\",  \"Price\": 35.04}, {\"Date\": \"1955-12\",  \"Price\": 34.97}, {\"Date\": \"1956-12\",  \"Price\": 34.9}, {\"Date\": \"1957-12\",  \"Price\": 34.99}, {\"Date\": \"1958-12\",  \"Price\": 35.09}, {\"Date\": \"1959-12\",  \"Price\": 35.05}, {\"Date\": \"1960-12\",  \"Price\": 35.54}, {\"Date\": \"1961-12\",  \"Price\": 35.15}, {\"Date\": \"1962-12\",  \"Price\": 35.08}, {\"Date\": \"1963-12\",  \"Price\": 35.08}.1, {\"Date\": \"1964-12\",  \"Price\": 35.12}, {\"Date\": \"1965-12\",  \"Price\": 35.13}, {\"Date\": \"1966-12\",  \"Price\": 35.18}, {\"Date\": \"1967-12\",  \"Price\": 35.19}, {\"Date\": \"1968-12\",  \"Price\": 41.113}, {\"Date\": \"1969-12\",  \"Price\": 35.189}, {\"Date\": \"1970-12\",  \"Price\": 37.434}, {\"Date\": \"1971-12\",  \"Price\": 43.455}, {\"Date\": \"1972-12\",  \"Price\": 63.779}, {\"Date\": \"1973-12\",  \"Price\": 106.236}, {\"Date\": \"1974-12\",  \"Price\": 183.683}, {\"Date\": \"1975-12\",  \"Price\": 139.279}, {\"Date\": \"1976-12\",  \"Price\": 133.674}, {\"Date\": \"1977-12\",  \"Price\": 160.48}, {\"Date\": \"1978-12\",  \"Price\": 207.895}, {\"Date\": \"1979-12\",  \"Price\": 463.666}, {\"Date\": \"1980-12\",  \"Price\": 596.712}, {\"Date\": \"1981-12\",  \"Price\": 410.119}, {\"Date\": \"1982-12\",  \"Price\": 444.776}, {\"Date\": \"1983-12\",  \"Price\": 388.06}, {\"Date\": \"1984-12\",  \"Price\": 319.622}, {\"Date\": \"1985-12\",  \"Price\": 321.985}, {\"Date\": \"1986-12\",  \"Price\": 391.595}, {\"Date\": \"1987-12\",  \"Price\": 487.079}, {\"Date\": \"1988-12\",  \"Price\": 419.248}, {\"Date\": \"1989-12\",  \"Price\": 409.655}, {\"Date\": \"1990-12\",  \"Price\": 378.161}, {\"Date\": \"1991-12\",  \"Price\": 361.875}, {\"Date\": \"1992-12\",  \"Price\": 334.657}, {\"Date\": \"1993-12\",  \"Price\": 383.243}, {\"Date\": \"1994-12\",  \"Price\": 379.48}, {\"Date\": \"1995-12\",  \"Price\": 387.445}, {\"Date\": \"1996-12\",  \"Price\": 369.338}, {\"Date\": \"1997-12\",  \"Price\": 288.776}, {\"Date\": \"1998-12\",  \"Price\": 291.357}, {\"Date\": \"1999-12\",  \"Price\": 283.743}, ...]\n",
      "Index: []\n",
      "\n",
      "[0 rows x 140 columns]\n",
      "Empty DataFrame\n",
      "Columns: [[{\"Date\": \"1950-01\",  \"Price\": 34.73}, {\"Date\": \"1950-02\",  \"Price\": 34.73}.1, {\"Date\": \"1950-03\",  \"Price\": 34.73}.2, {\"Date\": \"1950-04\",  \"Price\": 34.73}.3, {\"Date\": \"1950-05\",  \"Price\": 34.73}.4, {\"Date\": \"1950-06\",  \"Price\": 34.73}.5, {\"Date\": \"1950-07\",  \"Price\": 34.73}.6, {\"Date\": \"1950-08\",  \"Price\": 34.73}.7, {\"Date\": \"1950-09\",  \"Price\": 34.73}.8, {\"Date\": \"1950-10\",  \"Price\": 34.73}.9, {\"Date\": \"1950-11\",  \"Price\": 34.73}.10, {\"Date\": \"1950-12\",  \"Price\": 34.72}, {\"Date\": \"1951-01\",  \"Price\": 34.72}.1, {\"Date\": \"1951-02\",  \"Price\": 34.73}.11, {\"Date\": \"1951-03\",  \"Price\": 34.73}.12, {\"Date\": \"1951-04\",  \"Price\": 34.73}.13, {\"Date\": \"1951-05\",  \"Price\": 34.73}.14, {\"Date\": \"1951-06\",  \"Price\": 34.73}.15, {\"Date\": \"1951-07\",  \"Price\": 34.72}.2, {\"Date\": \"1951-08\",  \"Price\": 34.71}, {\"Date\": \"1951-09\",  \"Price\": 34.71}.1, {\"Date\": \"1951-10\",  \"Price\": 34.71}.2, {\"Date\": \"1951-11\",  \"Price\": 34.73}.16, {\"Date\": \"1951-12\",  \"Price\": 34.66}, {\"Date\": \"1952-01\",  \"Price\": 34.49}, {\"Date\": \"1952-02\",  \"Price\": 34.49}.1, {\"Date\": \"1952-03\",  \"Price\": 34.68}, {\"Date\": \"1952-04\",  \"Price\": 34.82}, {\"Date\": \"1952-05\",  \"Price\": 34.73}.17, {\"Date\": \"1952-06\",  \"Price\": 34.53}, {\"Date\": \"1952-07\",  \"Price\": 34.57}, {\"Date\": \"1952-08\",  \"Price\": 34.58}, {\"Date\": \"1952-09\",  \"Price\": 34.51}, {\"Date\": \"1952-10\",  \"Price\": 34.63}, {\"Date\": \"1952-11\",  \"Price\": 34.72}.3, {\"Date\": \"1952-12\",  \"Price\": 34.79}, {\"Date\": \"1953-01\",  \"Price\": 34.88}, {\"Date\": \"1953-02\",  \"Price\": 34.95}, {\"Date\": \"1953-03\",  \"Price\": 34.92}, {\"Date\": \"1953-04\",  \"Price\": 34.93}, {\"Date\": \"1953-05\",  \"Price\": 34.9}, {\"Date\": \"1953-06\",  \"Price\": 34.89}, {\"Date\": \"1953-07\",  \"Price\": 34.91}, {\"Date\": \"1953-08\",  \"Price\": 34.91}.1, {\"Date\": \"1953-09\",  \"Price\": 34.76}, {\"Date\": \"1953-10\",  \"Price\": 34.79}.1, {\"Date\": \"1953-11\",  \"Price\": 34.86}, {\"Date\": \"1953-12\",  \"Price\": 34.85}, {\"Date\": \"1954-01\",  \"Price\": 34.86}.1, {\"Date\": \"1954-02\",  \"Price\": 34.88}.1, ...]\n",
      "Index: []\n",
      "\n",
      "[0 rows x 1694 columns]\n",
      "       Date     Price\n",
      "0   1950-12    34.720\n",
      "1   1951-12    34.660\n",
      "2   1952-12    34.790\n",
      "3   1953-12    34.850\n",
      "4   1954-12    35.040\n",
      "..      ...       ...\n",
      "65  2015-12  1068.317\n",
      "66  2016-12  1152.165\n",
      "67  2017-12  1265.674\n",
      "68  2018-12  1249.887\n",
      "69  2019-12  1480.025\n",
      "\n",
      "[70 rows x 2 columns]\n",
      "        Date     Price\n",
      "0    1950-01    34.730\n",
      "1    1950-02    34.730\n",
      "2    1950-03    34.730\n",
      "3    1950-04    34.730\n",
      "4    1950-05    34.730\n",
      "..       ...       ...\n",
      "842  2020-03  1593.764\n",
      "843  2020-04  1680.030\n",
      "844  2020-05  1715.697\n",
      "845  2020-06  1734.032\n",
      "846  2020-07  1840.807\n",
      "\n",
      "[847 rows x 2 columns]\n"
     ]
    }
   ],
   "source": [
    "import datapackage\n",
    "import pandas as pd\n",
    "\n",
    "data_url = 'https://datahub.io/core/gold-prices/datapackage.json'\n",
    "\n",
    "# to load Data Package into storage\n",
    "package = datapackage.Package(data_url)\n",
    "\n",
    "# to load only tabular data\n",
    "resources = package.resources\n",
    "for resource in resources:\n",
    "    if resource.tabular:\n",
    "        data = pd.read_csv(resource.descriptor['path'])\n",
    "        print (data)"
   ]
  },
  {
   "cell_type": "code",
   "execution_count": 3,
   "metadata": {},
   "outputs": [
    {
     "data": {
      "text/html": [
       "<div>\n",
       "<style scoped>\n",
       "    .dataframe tbody tr th:only-of-type {\n",
       "        vertical-align: middle;\n",
       "    }\n",
       "\n",
       "    .dataframe tbody tr th {\n",
       "        vertical-align: top;\n",
       "    }\n",
       "\n",
       "    .dataframe thead th {\n",
       "        text-align: right;\n",
       "    }\n",
       "</style>\n",
       "<table border=\"1\" class=\"dataframe\">\n",
       "  <thead>\n",
       "    <tr style=\"text-align: right;\">\n",
       "      <th></th>\n",
       "      <th>Date</th>\n",
       "      <th>Price</th>\n",
       "    </tr>\n",
       "  </thead>\n",
       "  <tbody>\n",
       "    <tr>\n",
       "      <th>0</th>\n",
       "      <td>1950-01</td>\n",
       "      <td>34.73</td>\n",
       "    </tr>\n",
       "    <tr>\n",
       "      <th>1</th>\n",
       "      <td>1950-02</td>\n",
       "      <td>34.73</td>\n",
       "    </tr>\n",
       "    <tr>\n",
       "      <th>2</th>\n",
       "      <td>1950-03</td>\n",
       "      <td>34.73</td>\n",
       "    </tr>\n",
       "    <tr>\n",
       "      <th>3</th>\n",
       "      <td>1950-04</td>\n",
       "      <td>34.73</td>\n",
       "    </tr>\n",
       "    <tr>\n",
       "      <th>4</th>\n",
       "      <td>1950-05</td>\n",
       "      <td>34.73</td>\n",
       "    </tr>\n",
       "  </tbody>\n",
       "</table>\n",
       "</div>"
      ],
      "text/plain": [
       "      Date  Price\n",
       "0  1950-01  34.73\n",
       "1  1950-02  34.73\n",
       "2  1950-03  34.73\n",
       "3  1950-04  34.73\n",
       "4  1950-05  34.73"
      ]
     },
     "execution_count": 3,
     "metadata": {},
     "output_type": "execute_result"
    }
   ],
   "source": [
    "data.head()"
   ]
  },
  {
   "cell_type": "code",
   "execution_count": 4,
   "metadata": {},
   "outputs": [],
   "source": [
    "data['Date'] = data[['Date']].apply(pd.to_datetime)"
   ]
  },
  {
   "cell_type": "code",
   "execution_count": 5,
   "metadata": {},
   "outputs": [],
   "source": [
    "#data['Month'] = pd.DatetimeIndex(data['Date']).month"
   ]
  },
  {
   "cell_type": "code",
   "execution_count": 6,
   "metadata": {},
   "outputs": [],
   "source": [
    "#data['Year'] = pd.DatetimeIndex(data['Date']).year"
   ]
  },
  {
   "cell_type": "code",
   "execution_count": 7,
   "metadata": {},
   "outputs": [],
   "source": [
    "data.set_index('Date',inplace=True)"
   ]
  },
  {
   "cell_type": "code",
   "execution_count": 8,
   "metadata": {},
   "outputs": [
    {
     "data": {
      "text/html": [
       "<div>\n",
       "<style scoped>\n",
       "    .dataframe tbody tr th:only-of-type {\n",
       "        vertical-align: middle;\n",
       "    }\n",
       "\n",
       "    .dataframe tbody tr th {\n",
       "        vertical-align: top;\n",
       "    }\n",
       "\n",
       "    .dataframe thead th {\n",
       "        text-align: right;\n",
       "    }\n",
       "</style>\n",
       "<table border=\"1\" class=\"dataframe\">\n",
       "  <thead>\n",
       "    <tr style=\"text-align: right;\">\n",
       "      <th></th>\n",
       "      <th>Price</th>\n",
       "    </tr>\n",
       "    <tr>\n",
       "      <th>Date</th>\n",
       "      <th></th>\n",
       "    </tr>\n",
       "  </thead>\n",
       "  <tbody>\n",
       "    <tr>\n",
       "      <th>1950-01-01</th>\n",
       "      <td>34.73</td>\n",
       "    </tr>\n",
       "    <tr>\n",
       "      <th>1950-02-01</th>\n",
       "      <td>34.73</td>\n",
       "    </tr>\n",
       "    <tr>\n",
       "      <th>1950-03-01</th>\n",
       "      <td>34.73</td>\n",
       "    </tr>\n",
       "    <tr>\n",
       "      <th>1950-04-01</th>\n",
       "      <td>34.73</td>\n",
       "    </tr>\n",
       "    <tr>\n",
       "      <th>1950-05-01</th>\n",
       "      <td>34.73</td>\n",
       "    </tr>\n",
       "  </tbody>\n",
       "</table>\n",
       "</div>"
      ],
      "text/plain": [
       "            Price\n",
       "Date             \n",
       "1950-01-01  34.73\n",
       "1950-02-01  34.73\n",
       "1950-03-01  34.73\n",
       "1950-04-01  34.73\n",
       "1950-05-01  34.73"
      ]
     },
     "execution_count": 8,
     "metadata": {},
     "output_type": "execute_result"
    }
   ],
   "source": [
    "data.head()"
   ]
  },
  {
   "cell_type": "code",
   "execution_count": 9,
   "metadata": {},
   "outputs": [],
   "source": [
    "data.drop(data.index[:240], inplace=True)"
   ]
  },
  {
   "cell_type": "code",
   "execution_count": 10,
   "metadata": {},
   "outputs": [
    {
     "data": {
      "text/html": [
       "<div>\n",
       "<style scoped>\n",
       "    .dataframe tbody tr th:only-of-type {\n",
       "        vertical-align: middle;\n",
       "    }\n",
       "\n",
       "    .dataframe tbody tr th {\n",
       "        vertical-align: top;\n",
       "    }\n",
       "\n",
       "    .dataframe thead th {\n",
       "        text-align: right;\n",
       "    }\n",
       "</style>\n",
       "<table border=\"1\" class=\"dataframe\">\n",
       "  <thead>\n",
       "    <tr style=\"text-align: right;\">\n",
       "      <th></th>\n",
       "      <th>Price</th>\n",
       "    </tr>\n",
       "    <tr>\n",
       "      <th>Date</th>\n",
       "      <th></th>\n",
       "    </tr>\n",
       "  </thead>\n",
       "  <tbody>\n",
       "    <tr>\n",
       "      <th>1970-01-01</th>\n",
       "      <td>34.946</td>\n",
       "    </tr>\n",
       "    <tr>\n",
       "      <th>1970-02-01</th>\n",
       "      <td>34.994</td>\n",
       "    </tr>\n",
       "    <tr>\n",
       "      <th>1970-03-01</th>\n",
       "      <td>35.089</td>\n",
       "    </tr>\n",
       "    <tr>\n",
       "      <th>1970-04-01</th>\n",
       "      <td>35.623</td>\n",
       "    </tr>\n",
       "    <tr>\n",
       "      <th>1970-05-01</th>\n",
       "      <td>35.958</td>\n",
       "    </tr>\n",
       "    <tr>\n",
       "      <th>...</th>\n",
       "      <td>...</td>\n",
       "    </tr>\n",
       "    <tr>\n",
       "      <th>2020-03-01</th>\n",
       "      <td>1593.764</td>\n",
       "    </tr>\n",
       "    <tr>\n",
       "      <th>2020-04-01</th>\n",
       "      <td>1680.030</td>\n",
       "    </tr>\n",
       "    <tr>\n",
       "      <th>2020-05-01</th>\n",
       "      <td>1715.697</td>\n",
       "    </tr>\n",
       "    <tr>\n",
       "      <th>2020-06-01</th>\n",
       "      <td>1734.032</td>\n",
       "    </tr>\n",
       "    <tr>\n",
       "      <th>2020-07-01</th>\n",
       "      <td>1840.807</td>\n",
       "    </tr>\n",
       "  </tbody>\n",
       "</table>\n",
       "<p>607 rows × 1 columns</p>\n",
       "</div>"
      ],
      "text/plain": [
       "               Price\n",
       "Date                \n",
       "1970-01-01    34.946\n",
       "1970-02-01    34.994\n",
       "1970-03-01    35.089\n",
       "1970-04-01    35.623\n",
       "1970-05-01    35.958\n",
       "...              ...\n",
       "2020-03-01  1593.764\n",
       "2020-04-01  1680.030\n",
       "2020-05-01  1715.697\n",
       "2020-06-01  1734.032\n",
       "2020-07-01  1840.807\n",
       "\n",
       "[607 rows x 1 columns]"
      ]
     },
     "execution_count": 10,
     "metadata": {},
     "output_type": "execute_result"
    }
   ],
   "source": [
    "data"
   ]
  },
  {
   "cell_type": "code",
   "execution_count": 11,
   "metadata": {},
   "outputs": [
    {
     "data": {
      "text/plain": [
       "<AxesSubplot:xlabel='Date', ylabel='Price'>"
      ]
     },
     "execution_count": 11,
     "metadata": {},
     "output_type": "execute_result"
    },
    {
     "data": {
      "image/png": "[encoded data removed]",
      "text/plain": [
       "<Figure size 1080x720 with 1 Axes>"
      ]
     },
     "metadata": {
      "needs_background": "light"
     },
     "output_type": "display_data"
    }
   ],
   "source": [
    "plt.figure(figsize=(15,10))\n",
    "sns.lineplot(x = 'Date',y='Price',data=data)"
   ]
  },
  {
   "cell_type": "code",
   "execution_count": 12,
   "metadata": {},
   "outputs": [
    {
     "data": {
      "text/plain": [
       "607"
      ]
     },
     "execution_count": 12,
     "metadata": {},
     "output_type": "execute_result"
    }
   ],
   "source": [
    "len(data)"
   ]
  },
  {
   "cell_type": "code",
   "execution_count": 13,
   "metadata": {},
   "outputs": [
    {
     "data": {
      "text/plain": [
       "547"
      ]
     },
     "execution_count": 13,
     "metadata": {},
     "output_type": "execute_result"
    }
   ],
   "source": [
    "len(data)- 60"
   ]
  },
  {
   "cell_type": "code",
   "execution_count": 14,
   "metadata": {},
   "outputs": [],
   "source": [
    "test_size = 60"
   ]
  },
  {
   "cell_type": "code",
   "execution_count": 15,
   "metadata": {},
   "outputs": [],
   "source": [
    "test_ind = len(data)- test_size"
   ]
  },
  {
   "cell_type": "code",
   "execution_count": 16,
   "metadata": {},
   "outputs": [],
   "source": [
    "train = data.iloc[:test_ind]\n",
    "test = data.iloc[test_ind:]"
   ]
  },
  {
   "cell_type": "code",
   "execution_count": 17,
   "metadata": {},
   "outputs": [],
   "source": [
    "from sklearn.preprocessing import MinMaxScaler"
   ]
  },
  {
   "cell_type": "code",
   "execution_count": 18,
   "metadata": {},
   "outputs": [],
   "source": [
    "scaler = MinMaxScaler()"
   ]
  },
  {
   "cell_type": "code",
   "execution_count": 19,
   "metadata": {},
   "outputs": [
    {
     "data": {
      "text/plain": [
       "MinMaxScaler()"
      ]
     },
     "execution_count": 19,
     "metadata": {},
     "output_type": "execute_result"
    }
   ],
   "source": [
    "# IGNORE WARNING ITS JUST CONVERTING TO FLOATS\n",
    "# WE ONLY FIT TO TRAININ DATA, OTHERWISE WE ARE CHEATING ASSUMING INFO ABOUT TEST SET\n",
    "scaler.fit(train)"
   ]
  },
  {
   "cell_type": "code",
   "execution_count": 20,
   "metadata": {},
   "outputs": [],
   "source": [
    "scaled_train = scaler.transform(train)\n",
    "scaled_test = scaler.transform(test)"
   ]
  },
  {
   "cell_type": "code",
   "execution_count": 21,
   "metadata": {},
   "outputs": [],
   "source": [
    "from tensorflow.keras.preprocessing.sequence import TimeseriesGenerator"
   ]
  },
  {
   "cell_type": "code",
   "execution_count": 22,
   "metadata": {},
   "outputs": [],
   "source": [
    "# Let's redefine to get 12 months back and then predict the next month out\n",
    "length = 12\n",
    "generator = TimeseriesGenerator(scaled_train, scaled_train, length=length, batch_size=1)"
   ]
  },
  {
   "cell_type": "code",
   "execution_count": 23,
   "metadata": {},
   "outputs": [],
   "source": [
    "# What does the first batch look like?\n",
    "X,y = generator[0]"
   ]
  },
  {
   "cell_type": "code",
   "execution_count": 24,
   "metadata": {},
   "outputs": [
    {
     "name": "stdout",
     "output_type": "stream",
     "text": [
      "Given the Array: \n",
      "[0.00000000e+00 2.74961019e-05 8.19154701e-05 3.87809603e-04\n",
      " 5.79709481e-04 2.81262209e-04 2.19395979e-04 2.46892081e-04\n",
      " 7.16044319e-04 1.49338203e-03 1.43724416e-03 1.42521461e-03]\n",
      "Predict this y: \n",
      " [[0.00167383]]\n"
     ]
    }
   ],
   "source": [
    "print(f'Given the Array: \\n{X.flatten()}')\n",
    "print(f'Predict this y: \\n {y}')"
   ]
  },
  {
   "cell_type": "code",
   "execution_count": 25,
   "metadata": {},
   "outputs": [],
   "source": [
    "from tensorflow.keras.models import Sequential\n",
    "from tensorflow.keras.layers import Dense\n",
    "from tensorflow.keras.layers import LSTM"
   ]
  },
  {
   "cell_type": "code",
   "execution_count": 26,
   "metadata": {},
   "outputs": [],
   "source": [
    "# We're only using one feature in our time series\n",
    "n_features = 1"
   ]
  },
  {
   "cell_type": "code",
   "execution_count": 27,
   "metadata": {},
   "outputs": [],
   "source": [
    "# define model\n",
    "model = Sequential()\n",
    "model.add(LSTM(4, activation='relu', input_shape=(length, n_features)))\n",
    "model.add(Dense(1))\n",
    "model.compile(optimizer='adam', loss='mse')"
   ]
  },
  {
   "cell_type": "code",
   "execution_count": 28,
   "metadata": {},
   "outputs": [
    {
     "name": "stdout",
     "output_type": "stream",
     "text": [
      "Model: \"sequential\"\n",
      "_________________________________________________________________\n",
      "Layer (type)                 Output Shape              Param #   \n",
      "=================================================================\n",
      "lstm (LSTM)                  (None, 4)                 96        \n",
      "_________________________________________________________________\n",
      "dense (Dense)                (None, 1)                 5         \n",
      "=================================================================\n",
      "Total params: 101\n",
      "Trainable params: 101\n",
      "Non-trainable params: 0\n",
      "_________________________________________________________________\n"
     ]
    }
   ],
   "source": [
    "model.summary()"
   ]
  },
  {
   "cell_type": "code",
   "execution_count": 29,
   "metadata": {},
   "outputs": [],
   "source": [
    "from tensorflow.keras.callbacks import EarlyStopping"
   ]
  },
  {
   "cell_type": "code",
   "execution_count": 30,
   "metadata": {},
   "outputs": [],
   "source": [
    "early_stop = EarlyStopping(monitor='val_loss',patience=2)"
   ]
  },
  {
   "cell_type": "code",
   "execution_count": 31,
   "metadata": {},
   "outputs": [],
   "source": [
    "validation_generator = TimeseriesGenerator(scaled_test,scaled_test, length=length, batch_size=1)"
   ]
  },
  {
   "cell_type": "code",
   "execution_count": 32,
   "metadata": {},
   "outputs": [
    {
     "name": "stdout",
     "output_type": "stream",
     "text": [
      "WARNING:tensorflow:From <ipython-input-32-797671f0f750>:4: Model.fit_generator (from tensorflow.python.keras.engine.training) is deprecated and will be removed in a future version.\n",
      "Instructions for updating:\n",
      "Please use Model.fit, which supports generators.\n",
      "Epoch 1/100\n",
      "535/535 [==============================] - 4s 8ms/step - loss: 0.0711 - val_loss: 0.2942\n",
      "Epoch 2/100\n",
      "535/535 [==============================] - 4s 8ms/step - loss: 0.0518 - val_loss: 0.2517\n",
      "Epoch 3/100\n",
      "535/535 [==============================] - 7s 13ms/step - loss: 0.0514 - val_loss: 0.2626\n",
      "Epoch 4/100\n",
      "535/535 [==============================] - 7s 13ms/step - loss: 0.0514 - val_loss: 0.2473\n",
      "Epoch 5/100\n",
      "535/535 [==============================] - 6s 12ms/step - loss: 0.0513 - val_loss: 0.2578\n",
      "Epoch 6/100\n",
      "535/535 [==============================] - 7s 14ms/step - loss: 0.0514 - val_loss: 0.2633\n"
     ]
    },
    {
     "data": {
      "text/plain": [
       "<tensorflow.python.keras.callbacks.History at 0x1a9c7e0e908>"
      ]
     },
     "execution_count": 32,
     "metadata": {},
     "output_type": "execute_result"
    }
   ],
   "source": [
    "# fit model\n",
    "model.fit_generator(generator,epochs=100,\n",
    "                    validation_data=validation_generator,\n",
    "                   callbacks=[early_stop])"
   ]
  },
  {
   "cell_type": "code",
   "execution_count": 33,
   "metadata": {},
   "outputs": [],
   "source": [
    "losses = pd.DataFrame(model.history.history)"
   ]
  },
  {
   "cell_type": "code",
   "execution_count": 34,
   "metadata": {},
   "outputs": [
    {
     "data": {
      "text/plain": [
       "<AxesSubplot:>"
      ]
     },
     "execution_count": 34,
     "metadata": {},
     "output_type": "execute_result"
    },
    {
     "data": {
      "image/png": "[encoded data removed]",
      "text/plain": [
       "<Figure size 432x288 with 1 Axes>"
      ]
     },
     "metadata": {
      "needs_background": "light"
     },
     "output_type": "display_data"
    }
   ],
   "source": [
    "losses.plot()"
   ]
  },
  {
   "cell_type": "code",
   "execution_count": 35,
   "metadata": {},
   "outputs": [],
   "source": [
    "first_eval_batch = scaled_train[-length:]"
   ]
  },
  {
   "cell_type": "code",
   "execution_count": 36,
   "metadata": {},
   "outputs": [],
   "source": [
    "first_eval_batch = first_eval_batch.reshape((1, length, n_features))"
   ]
  },
  {
   "cell_type": "code",
   "execution_count": 37,
   "metadata": {},
   "outputs": [
    {
     "data": {
      "text/plain": [
       "array([[0.25178277]], dtype=float32)"
      ]
     },
     "execution_count": 37,
     "metadata": {},
     "output_type": "execute_result"
    }
   ],
   "source": [
    "model.predict(first_eval_batch)"
   ]
  },
  {
   "cell_type": "code",
   "execution_count": 38,
   "metadata": {},
   "outputs": [
    {
     "data": {
      "text/plain": [
       "array([0.62013963])"
      ]
     },
     "execution_count": 38,
     "metadata": {},
     "output_type": "execute_result"
    }
   ],
   "source": [
    "scaled_test[0]"
   ]
  },
  {
   "cell_type": "code",
   "execution_count": 39,
   "metadata": {},
   "outputs": [],
   "source": [
    "test_predictions = []\n",
    "\n",
    "first_eval_batch = scaled_train[-length:]\n",
    "current_batch = first_eval_batch.reshape((1, length, n_features))\n",
    "\n",
    "for i in range(len(test)):\n",
    "    \n",
    "    # get prediction 1 time stamp ahead ([0] is for grabbing just the number instead of [array])\n",
    "    current_pred = model.predict(current_batch)[0]\n",
    "    \n",
    "    # store prediction\n",
    "    test_predictions.append(current_pred) \n",
    "    \n",
    "    # update batch to now include prediction and drop first value\n",
    "    current_batch = np.append(current_batch[:,1:,:],[[current_pred]],axis=1)"
   ]
  },
  {
   "cell_type": "code",
   "execution_count": 40,
   "metadata": {},
   "outputs": [],
   "source": [
    "true_predictions = scaler.inverse_transform(test_predictions)"
   ]
  },
  {
   "cell_type": "code",
   "execution_count": 41,
   "metadata": {},
   "outputs": [],
   "source": [
    "# IGNORE WARNINGS\n",
    "test['Predictions'] = true_predictions"
   ]
  },
  {
   "cell_type": "code",
   "execution_count": 42,
   "metadata": {},
   "outputs": [
    {
     "data": {
      "text/html": [
       "<div>\n",
       "<style scoped>\n",
       "    .dataframe tbody tr th:only-of-type {\n",
       "        vertical-align: middle;\n",
       "    }\n",
       "\n",
       "    .dataframe tbody tr th {\n",
       "        vertical-align: top;\n",
       "    }\n",
       "\n",
       "    .dataframe thead th {\n",
       "        text-align: right;\n",
       "    }\n",
       "</style>\n",
       "<table border=\"1\" class=\"dataframe\">\n",
       "  <thead>\n",
       "    <tr style=\"text-align: right;\">\n",
       "      <th></th>\n",
       "      <th>Price</th>\n",
       "      <th>Predictions</th>\n",
       "    </tr>\n",
       "    <tr>\n",
       "      <th>Date</th>\n",
       "      <th></th>\n",
       "      <th></th>\n",
       "    </tr>\n",
       "  </thead>\n",
       "  <tbody>\n",
       "    <tr>\n",
       "      <th>2015-08-01</th>\n",
       "      <td>1117.525</td>\n",
       "      <td>474.483694</td>\n",
       "    </tr>\n",
       "    <tr>\n",
       "      <th>2015-09-01</th>\n",
       "      <td>1124.905</td>\n",
       "      <td>474.483694</td>\n",
       "    </tr>\n",
       "    <tr>\n",
       "      <th>2015-10-01</th>\n",
       "      <td>1157.123</td>\n",
       "      <td>474.483694</td>\n",
       "    </tr>\n",
       "    <tr>\n",
       "      <th>2015-11-01</th>\n",
       "      <td>1088.388</td>\n",
       "      <td>474.483694</td>\n",
       "    </tr>\n",
       "    <tr>\n",
       "      <th>2015-12-01</th>\n",
       "      <td>1068.317</td>\n",
       "      <td>474.483694</td>\n",
       "    </tr>\n",
       "    <tr>\n",
       "      <th>2016-01-01</th>\n",
       "      <td>1095.655</td>\n",
       "      <td>474.483694</td>\n",
       "    </tr>\n",
       "    <tr>\n",
       "      <th>2016-02-01</th>\n",
       "      <td>1194.893</td>\n",
       "      <td>474.483694</td>\n",
       "    </tr>\n",
       "    <tr>\n",
       "      <th>2016-03-01</th>\n",
       "      <td>1246.312</td>\n",
       "      <td>474.483694</td>\n",
       "    </tr>\n",
       "    <tr>\n",
       "      <th>2016-04-01</th>\n",
       "      <td>1241.452</td>\n",
       "      <td>474.483694</td>\n",
       "    </tr>\n",
       "    <tr>\n",
       "      <th>2016-05-01</th>\n",
       "      <td>1259.755</td>\n",
       "      <td>474.483694</td>\n",
       "    </tr>\n",
       "    <tr>\n",
       "      <th>2016-06-01</th>\n",
       "      <td>1273.580</td>\n",
       "      <td>474.483694</td>\n",
       "    </tr>\n",
       "    <tr>\n",
       "      <th>2016-07-01</th>\n",
       "      <td>1337.429</td>\n",
       "      <td>474.483694</td>\n",
       "    </tr>\n",
       "    <tr>\n",
       "      <th>2016-08-01</th>\n",
       "      <td>1340.861</td>\n",
       "      <td>474.483694</td>\n",
       "    </tr>\n",
       "    <tr>\n",
       "      <th>2016-09-01</th>\n",
       "      <td>1326.618</td>\n",
       "      <td>474.483694</td>\n",
       "    </tr>\n",
       "    <tr>\n",
       "      <th>2016-10-01</th>\n",
       "      <td>1268.929</td>\n",
       "      <td>474.483694</td>\n",
       "    </tr>\n",
       "    <tr>\n",
       "      <th>2016-11-01</th>\n",
       "      <td>1240.293</td>\n",
       "      <td>474.483694</td>\n",
       "    </tr>\n",
       "    <tr>\n",
       "      <th>2016-12-01</th>\n",
       "      <td>1152.165</td>\n",
       "      <td>474.483694</td>\n",
       "    </tr>\n",
       "    <tr>\n",
       "      <th>2017-01-01</th>\n",
       "      <td>1192.648</td>\n",
       "      <td>474.483694</td>\n",
       "    </tr>\n",
       "    <tr>\n",
       "      <th>2017-02-01</th>\n",
       "      <td>1233.390</td>\n",
       "      <td>474.483694</td>\n",
       "    </tr>\n",
       "    <tr>\n",
       "      <th>2017-03-01</th>\n",
       "      <td>1231.063</td>\n",
       "      <td>474.483694</td>\n",
       "    </tr>\n",
       "    <tr>\n",
       "      <th>2017-04-01</th>\n",
       "      <td>1267.150</td>\n",
       "      <td>474.483694</td>\n",
       "    </tr>\n",
       "    <tr>\n",
       "      <th>2017-05-01</th>\n",
       "      <td>1245.250</td>\n",
       "      <td>474.483694</td>\n",
       "    </tr>\n",
       "    <tr>\n",
       "      <th>2017-06-01</th>\n",
       "      <td>1261.277</td>\n",
       "      <td>474.483694</td>\n",
       "    </tr>\n",
       "    <tr>\n",
       "      <th>2017-07-01</th>\n",
       "      <td>1235.100</td>\n",
       "      <td>474.483694</td>\n",
       "    </tr>\n",
       "    <tr>\n",
       "      <th>2017-08-01</th>\n",
       "      <td>1281.720</td>\n",
       "      <td>474.483694</td>\n",
       "    </tr>\n",
       "    <tr>\n",
       "      <th>2017-09-01</th>\n",
       "      <td>1317.045</td>\n",
       "      <td>474.483694</td>\n",
       "    </tr>\n",
       "    <tr>\n",
       "      <th>2017-10-01</th>\n",
       "      <td>1280.677</td>\n",
       "      <td>474.483694</td>\n",
       "    </tr>\n",
       "    <tr>\n",
       "      <th>2017-11-01</th>\n",
       "      <td>1283.189</td>\n",
       "      <td>474.483694</td>\n",
       "    </tr>\n",
       "    <tr>\n",
       "      <th>2017-12-01</th>\n",
       "      <td>1265.674</td>\n",
       "      <td>474.483694</td>\n",
       "    </tr>\n",
       "    <tr>\n",
       "      <th>2018-01-01</th>\n",
       "      <td>1332.809</td>\n",
       "      <td>474.483694</td>\n",
       "    </tr>\n",
       "    <tr>\n",
       "      <th>2018-02-01</th>\n",
       "      <td>1333.775</td>\n",
       "      <td>474.483694</td>\n",
       "    </tr>\n",
       "    <tr>\n",
       "      <th>2018-03-01</th>\n",
       "      <td>1325.562</td>\n",
       "      <td>474.483694</td>\n",
       "    </tr>\n",
       "    <tr>\n",
       "      <th>2018-04-01</th>\n",
       "      <td>1335.332</td>\n",
       "      <td>474.483694</td>\n",
       "    </tr>\n",
       "    <tr>\n",
       "      <th>2018-05-01</th>\n",
       "      <td>1303.618</td>\n",
       "      <td>474.483694</td>\n",
       "    </tr>\n",
       "    <tr>\n",
       "      <th>2018-06-01</th>\n",
       "      <td>1282.126</td>\n",
       "      <td>474.483694</td>\n",
       "    </tr>\n",
       "    <tr>\n",
       "      <th>2018-07-01</th>\n",
       "      <td>1238.064</td>\n",
       "      <td>474.483694</td>\n",
       "    </tr>\n",
       "    <tr>\n",
       "      <th>2018-08-01</th>\n",
       "      <td>1201.859</td>\n",
       "      <td>474.483694</td>\n",
       "    </tr>\n",
       "    <tr>\n",
       "      <th>2018-09-01</th>\n",
       "      <td>1199.198</td>\n",
       "      <td>474.483694</td>\n",
       "    </tr>\n",
       "    <tr>\n",
       "      <th>2018-10-01</th>\n",
       "      <td>1214.726</td>\n",
       "      <td>474.483694</td>\n",
       "    </tr>\n",
       "    <tr>\n",
       "      <th>2018-11-01</th>\n",
       "      <td>1221.275</td>\n",
       "      <td>474.483694</td>\n",
       "    </tr>\n",
       "    <tr>\n",
       "      <th>2018-12-01</th>\n",
       "      <td>1249.887</td>\n",
       "      <td>474.483694</td>\n",
       "    </tr>\n",
       "    <tr>\n",
       "      <th>2019-01-01</th>\n",
       "      <td>1291.630</td>\n",
       "      <td>474.483694</td>\n",
       "    </tr>\n",
       "    <tr>\n",
       "      <th>2019-02-01</th>\n",
       "      <td>1319.755</td>\n",
       "      <td>474.483694</td>\n",
       "    </tr>\n",
       "    <tr>\n",
       "      <th>2019-03-01</th>\n",
       "      <td>1302.286</td>\n",
       "      <td>474.483694</td>\n",
       "    </tr>\n",
       "    <tr>\n",
       "      <th>2019-04-01</th>\n",
       "      <td>1287.650</td>\n",
       "      <td>474.483694</td>\n",
       "    </tr>\n",
       "    <tr>\n",
       "      <th>2019-05-01</th>\n",
       "      <td>1282.460</td>\n",
       "      <td>474.483694</td>\n",
       "    </tr>\n",
       "    <tr>\n",
       "      <th>2019-06-01</th>\n",
       "      <td>1358.488</td>\n",
       "      <td>474.483694</td>\n",
       "    </tr>\n",
       "    <tr>\n",
       "      <th>2019-07-01</th>\n",
       "      <td>1414.611</td>\n",
       "      <td>474.483694</td>\n",
       "    </tr>\n",
       "    <tr>\n",
       "      <th>2019-08-01</th>\n",
       "      <td>1497.102</td>\n",
       "      <td>474.483694</td>\n",
       "    </tr>\n",
       "    <tr>\n",
       "      <th>2019-09-01</th>\n",
       "      <td>1510.336</td>\n",
       "      <td>474.483694</td>\n",
       "    </tr>\n",
       "    <tr>\n",
       "      <th>2019-10-01</th>\n",
       "      <td>1494.765</td>\n",
       "      <td>474.483694</td>\n",
       "    </tr>\n",
       "    <tr>\n",
       "      <th>2019-11-01</th>\n",
       "      <td>1471.921</td>\n",
       "      <td>474.483694</td>\n",
       "    </tr>\n",
       "    <tr>\n",
       "      <th>2019-12-01</th>\n",
       "      <td>1480.025</td>\n",
       "      <td>474.483694</td>\n",
       "    </tr>\n",
       "    <tr>\n",
       "      <th>2020-01-01</th>\n",
       "      <td>1560.668</td>\n",
       "      <td>474.483694</td>\n",
       "    </tr>\n",
       "    <tr>\n",
       "      <th>2020-02-01</th>\n",
       "      <td>1598.818</td>\n",
       "      <td>474.483694</td>\n",
       "    </tr>\n",
       "    <tr>\n",
       "      <th>2020-03-01</th>\n",
       "      <td>1593.764</td>\n",
       "      <td>474.483694</td>\n",
       "    </tr>\n",
       "    <tr>\n",
       "      <th>2020-04-01</th>\n",
       "      <td>1680.030</td>\n",
       "      <td>474.483694</td>\n",
       "    </tr>\n",
       "    <tr>\n",
       "      <th>2020-05-01</th>\n",
       "      <td>1715.697</td>\n",
       "      <td>474.483694</td>\n",
       "    </tr>\n",
       "    <tr>\n",
       "      <th>2020-06-01</th>\n",
       "      <td>1734.032</td>\n",
       "      <td>474.483694</td>\n",
       "    </tr>\n",
       "    <tr>\n",
       "      <th>2020-07-01</th>\n",
       "      <td>1840.807</td>\n",
       "      <td>474.483694</td>\n",
       "    </tr>\n",
       "  </tbody>\n",
       "</table>\n",
       "</div>"
      ],
      "text/plain": [
       "               Price  Predictions\n",
       "Date                             \n",
       "2015-08-01  1117.525   474.483694\n",
       "2015-09-01  1124.905   474.483694\n",
       "2015-10-01  1157.123   474.483694\n",
       "2015-11-01  1088.388   474.483694\n",
       "2015-12-01  1068.317   474.483694\n",
       "2016-01-01  1095.655   474.483694\n",
       "2016-02-01  1194.893   474.483694\n",
       "2016-03-01  1246.312   474.483694\n",
       "2016-04-01  1241.452   474.483694\n",
       "2016-05-01  1259.755   474.483694\n",
       "2016-06-01  1273.580   474.483694\n",
       "2016-07-01  1337.429   474.483694\n",
       "2016-08-01  1340.861   474.483694\n",
       "2016-09-01  1326.618   474.483694\n",
       "2016-10-01  1268.929   474.483694\n",
       "2016-11-01  1240.293   474.483694\n",
       "2016-12-01  1152.165   474.483694\n",
       "2017-01-01  1192.648   474.483694\n",
       "2017-02-01  1233.390   474.483694\n",
       "2017-03-01  1231.063   474.483694\n",
       "2017-04-01  1267.150   474.483694\n",
       "2017-05-01  1245.250   474.483694\n",
       "2017-06-01  1261.277   474.483694\n",
       "2017-07-01  1235.100   474.483694\n",
       "2017-08-01  1281.720   474.483694\n",
       "2017-09-01  1317.045   474.483694\n",
       "2017-10-01  1280.677   474.483694\n",
       "2017-11-01  1283.189   474.483694\n",
       "2017-12-01  1265.674   474.483694\n",
       "2018-01-01  1332.809   474.483694\n",
       "2018-02-01  1333.775   474.483694\n",
       "2018-03-01  1325.562   474.483694\n",
       "2018-04-01  1335.332   474.483694\n",
       "2018-05-01  1303.618   474.483694\n",
       "2018-06-01  1282.126   474.483694\n",
       "2018-07-01  1238.064   474.483694\n",
       "2018-08-01  1201.859   474.483694\n",
       "2018-09-01  1199.198   474.483694\n",
       "2018-10-01  1214.726   474.483694\n",
       "2018-11-01  1221.275   474.483694\n",
       "2018-12-01  1249.887   474.483694\n",
       "2019-01-01  1291.630   474.483694\n",
       "2019-02-01  1319.755   474.483694\n",
       "2019-03-01  1302.286   474.483694\n",
       "2019-04-01  1287.650   474.483694\n",
       "2019-05-01  1282.460   474.483694\n",
       "2019-06-01  1358.488   474.483694\n",
       "2019-07-01  1414.611   474.483694\n",
       "2019-08-01  1497.102   474.483694\n",
       "2019-09-01  1510.336   474.483694\n",
       "2019-10-01  1494.765   474.483694\n",
       "2019-11-01  1471.921   474.483694\n",
       "2019-12-01  1480.025   474.483694\n",
       "2020-01-01  1560.668   474.483694\n",
       "2020-02-01  1598.818   474.483694\n",
       "2020-03-01  1593.764   474.483694\n",
       "2020-04-01  1680.030   474.483694\n",
       "2020-05-01  1715.697   474.483694\n",
       "2020-06-01  1734.032   474.483694\n",
       "2020-07-01  1840.807   474.483694"
      ]
     },
     "execution_count": 42,
     "metadata": {},
     "output_type": "execute_result"
    }
   ],
   "source": [
    "test"
   ]
  },
  {
   "cell_type": "code",
   "execution_count": 43,
   "metadata": {},
   "outputs": [
    {
     "data": {
      "text/plain": [
       "<AxesSubplot:xlabel='Date'>"
      ]
     },
     "execution_count": 43,
     "metadata": {},
     "output_type": "execute_result"
    },
    {
     "data": {
      "image/png": "[encoded data removed]",
      "text/plain": [
       "<Figure size 864x576 with 1 Axes>"
      ]
     },
     "metadata": {
      "needs_background": "light"
     },
     "output_type": "display_data"
    }
   ],
   "source": [
    "test.plot(figsize=(12,8))"
   ]
  },
  {
   "cell_type": "code",
   "execution_count": 44,
   "metadata": {},
   "outputs": [],
   "source": [
    "full_scaler = MinMaxScaler()\n",
    "scaled_full_data = full_scaler.fit_transform(data)"
   ]
  },
  {
   "cell_type": "code",
   "execution_count": 45,
   "metadata": {},
   "outputs": [],
   "source": [
    "length = 12 # Length of the output sequences (in number of timesteps)\n",
    "generator = TimeseriesGenerator(scaled_full_data, scaled_full_data, length=length, batch_size=1)"
   ]
  },
  {
   "cell_type": "code",
   "execution_count": 46,
   "metadata": {},
   "outputs": [
    {
     "name": "stdout",
     "output_type": "stream",
     "text": [
      "Epoch 1/6\n",
      "595/595 [==============================] - 5s 8ms/step - loss: 0.0035\n",
      "Epoch 2/6\n",
      "595/595 [==============================] - 5s 9ms/step - loss: 5.5028e-04\n",
      "Epoch 3/6\n",
      "595/595 [==============================] - 5s 9ms/step - loss: 4.5680e-04\n",
      "Epoch 4/6\n",
      "595/595 [==============================] - 4s 7ms/step - loss: 5.1755e-04\n",
      "Epoch 5/6\n",
      "595/595 [==============================] - 4s 7ms/step - loss: 4.8673e-04\n",
      "Epoch 6/6\n",
      "595/595 [==============================] - 4s 7ms/step - loss: 5.0854e-04\n"
     ]
    },
    {
     "data": {
      "text/plain": [
       "<tensorflow.python.keras.callbacks.History at 0x1a9ca62a688>"
      ]
     },
     "execution_count": 46,
     "metadata": {},
     "output_type": "execute_result"
    }
   ],
   "source": [
    "model = Sequential()\n",
    "model.add(LSTM(4, activation='relu', input_shape=(length, n_features)))\n",
    "model.add(Dense(1))\n",
    "model.compile(optimizer='adam', loss='mse')\n",
    "# fit model\n",
    "model.fit_generator(generator,epochs=6)"
   ]
  },
  {
   "cell_type": "code",
   "execution_count": 47,
   "metadata": {},
   "outputs": [],
   "source": [
    "forecast = []\n",
    "# Replace periods with whatever forecast length you want\n",
    "periods = 12\n",
    "\n",
    "first_eval_batch = scaled_full_data[-length:]\n",
    "current_batch = first_eval_batch.reshape((1, length, n_features))\n",
    "\n",
    "for i in range(periods):\n",
    "    \n",
    "    # get prediction 1 time stamp ahead ([0] is for grabbing just the number instead of [array])\n",
    "    current_pred = model.predict(current_batch)[0]\n",
    "    \n",
    "    # store prediction\n",
    "    forecast.append(current_pred) \n",
    "    \n",
    "    # update batch to now include prediction and drop first value\n",
    "    current_batch = np.append(current_batch[:,1:,:],[[current_pred]],axis=1)"
   ]
  },
  {
   "cell_type": "code",
   "execution_count": 48,
   "metadata": {},
   "outputs": [],
   "source": [
    "forecast = scaler.inverse_transform(forecast)"
   ]
  },
  {
   "cell_type": "code",
   "execution_count": 49,
   "metadata": {},
   "outputs": [],
   "source": [
    "forecast_index = pd.date_range(start='2020-08-01',periods=periods,freq='MS')"
   ]
  },
  {
   "cell_type": "code",
   "execution_count": 50,
   "metadata": {},
   "outputs": [],
   "source": [
    "forecast_df = pd.DataFrame(data=forecast,index=forecast_index,\n",
    "                           columns=['Forecast'])"
   ]
  },
  {
   "cell_type": "code",
   "execution_count": 51,
   "metadata": {},
   "outputs": [
    {
     "data": {
      "text/plain": [
       "<AxesSubplot:xlabel='Date'>"
      ]
     },
     "execution_count": 51,
     "metadata": {},
     "output_type": "execute_result"
    },
    {
     "data": {
      "text/plain": [
       "<Figure size 1080x720 with 0 Axes>"
      ]
     },
     "metadata": {},
     "output_type": "display_data"
    },
    {
     "data": {
      "image/png": "[encoded data removed]",
      "text/plain": [
       "<Figure size 1080x720 with 1 Axes>"
      ]
     },
     "metadata": {
      "needs_background": "light"
     },
     "output_type": "display_data"
    }
   ],
   "source": [
    "plt.figure(figsize=(15,10))\n",
    "ax = data.plot()\n",
    "forecast_df.plot(ax=ax,figsize=(15,10))"
   ]
  },
  {
   "cell_type": "code",
   "execution_count": 52,
   "metadata": {},
   "outputs": [
    {
     "data": {
      "text/plain": [
       "(605.0, 623.0)"
      ]
     },
     "execution_count": 52,
     "metadata": {},
     "output_type": "execute_result"
    },
    {
     "data": {
      "image/png": "[encoded data removed]",
      "text/plain": [
       "<Figure size 432x288 with 1 Axes>"
      ]
     },
     "metadata": {
      "needs_background": "light"
     },
     "output_type": "display_data"
    }
   ],
   "source": [
    "ax = data.plot()\n",
    "forecast_df.plot(ax=ax)\n",
    "plt.xlim('2020-06-01','2021-12-01')"
   ]
  },
  {
   "cell_type": "code",
   "execution_count": null,
   "metadata": {},
   "outputs": [],
   "source": []
  }
 ],
 "metadata": {
  "kernelspec": {
   "display_name": "Python 3",
   "language": "python",
   "name": "python3"
  },
  "language_info": {
   "codemirror_mode": {
    "name": "ipython",
    "version": 3
   },
   "file_extension": ".py",
   "mimetype": "text/x-python",
   "name": "python",
   "nbconvert_exporter": "python",
   "pygments_lexer": "ipython3",
   "version": "3.7.9"
  }
 },
 "nbformat": 4,
 "nbformat_minor": 4
}
